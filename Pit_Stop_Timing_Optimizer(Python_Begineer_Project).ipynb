{
  "nbformat": 4,
  "nbformat_minor": 0,
  "metadata": {
    "colab": {
      "provenance": []
    },
    "kernelspec": {
      "name": "python3",
      "display_name": "Python 3"
    },
    "language_info": {
      "name": "python"
    }
  },
  "cells": [
    {
      "cell_type": "code",
      "execution_count": 1,
      "metadata": {
        "colab": {
          "base_uri": "https://localhost:8080/"
        },
        "id": "DK8hyFaZYjU2",
        "outputId": "9117e915-5c4f-443b-9e35-261ae1b9e2f2"
      },
      "outputs": [
        {
          "output_type": "stream",
          "name": "stdout",
          "text": [
            "Enter the total race time in seconds: 555000\n",
            "Ener how many pit stops were made: 5\n",
            "Ener the average pit stop duration in seconds: 120\n",
            "\n",
            "Total pit stop time: 600 seconds\n",
            "Percentage of race spent in pits: 0.11%\n"
          ]
        }
      ],
      "source": [
        "# 🏁 Pit Stop Timing Optimizer 🔧\n",
        "#\n",
        "# 1. Ask the user for the total race time in seconds.\n",
        "racetime = int(input(\"Enter the total race time in seconds: \"))\n",
        "# 2. Ask how many pit stops were made.\n",
        "pitstops = int(input(\"Ener how many pit stops were made: \"))\n",
        "# 3. Ask for the average pit stop duration (in seconds).\n",
        "avgpitstop = int(input(\"Ener the average pit stop duration in seconds: \"))\n",
        "#\n",
        "# Then:\n",
        "# - Calculate the total pit stop time.\n",
        "total_pit_time = pitstops * avgpitstop\n",
        "# - Calculate the percentage of the race spent in the pits.\n",
        "pit_percentage = (total_pit_time / racetime) * 100\n",
        "# - Round the percentage to 2 decimal places.\n",
        "pit_percentage_rounded = round(pit_percentage, 2)\n",
        "\n",
        "#\n",
        "# Finally, print all of the following:\n",
        "# - Total pit stop time in seconds\n",
        "# - Percentage of race time spent in pits\n",
        "print(f\"\\nTotal pit stop time: {total_pit_time} seconds\")\n",
        "print(f\"Percentage of race spent in pits: {pit_percentage_rounded}%\")\n",
        "\n",
        "# - A final message if pit time > 5% of the race: \"You need a new pit crew. 🛠️\"\n",
        "if pit_percentage > 5:\n",
        "    print(\"You need a new pit crew. 🛠️\")"
      ]
    }
  ]
}